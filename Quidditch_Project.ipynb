{
 "cells": [
  {
   "cell_type": "markdown",
   "metadata": {},
   "source": [
    "# Machine Learning Project\n",
    "# Spring 2019\n",
    "\n",
    "Submitted By :\n",
    "\n",
    "Maulik Modi (mm9817)\n",
    "\n",
    "Vismay Suthar(vgs256)"
   ]
  },
  {
   "cell_type": "markdown",
   "metadata": {},
   "source": [
    "# Import Library and Dataset"
   ]
  },
  {
   "cell_type": "code",
   "execution_count": 63,
   "metadata": {},
   "outputs": [],
   "source": [
    "import pandas as pd\n",
    "import numpy as np\n",
    "import matplotlib.pyplot as plt\n",
    "from sklearn.model_selection import train_test_split\n",
    "from sklearn import tree\n",
    "%matplotlib inline\n",
    "import numpy as np\n",
    "import seaborn as sns\n",
    "import copy\n",
    "import matplotlib.pyplot as plt\n",
    "from matplotlib.colors import ListedColormap\n",
    "from sklearn.model_selection import train_test_split\n",
    "from sklearn.preprocessing import StandardScaler\n",
    "from sklearn.datasets import make_moons, make_circles, make_classification\n",
    "from sklearn.neural_network import MLPClassifier\n",
    "from sklearn.neighbors import KNeighborsClassifier\n",
    "from sklearn.svm import SVC\n",
    "from sklearn.gaussian_process import GaussianProcessClassifier\n",
    "from sklearn.gaussian_process.kernels import RBF\n",
    "from sklearn.tree import DecisionTreeClassifier\n",
    "from sklearn.ensemble import RandomForestClassifier, AdaBoostClassifier\n",
    "from sklearn.naive_bayes import GaussianNB\n",
    "from sklearn.discriminant_analysis import QuadraticDiscriminantAnalysis\n",
    "from sklearn import preprocessing\n",
    "from sklearn.model_selection import cross_val_score\n",
    "from sklearn.preprocessing import Normalizer\n",
    "from sklearn.linear_model import LogisticRegression\n",
    "from sklearn.metrics import recall_score\n",
    "from imblearn.over_sampling import SMOTE\n",
    "from sklearn.model_selection import RandomizedSearchCV\n",
    "from sklearn.metrics import classification_report, confusion_matrix,f1_score\n",
    "from sklearn.linear_model import Lasso, LassoCV, Ridge, RidgeCV\n",
    "from sklearn.metrics import mean_squared_error"
   ]
  },
  {
   "cell_type": "code",
   "execution_count": null,
   "metadata": {},
   "outputs": [],
   "source": []
  },
  {
   "cell_type": "markdown",
   "metadata": {},
   "source": [
    "# PART I: Preprocessing"
   ]
  },
  {
   "cell_type": "markdown",
   "metadata": {},
   "source": [
    "Here We are reading the training and testing files first , then We have defined some arrays which contains the name of Columns we want to preprocess. These arrays are for different purposes, like Dropping a column or combining a column or creating a new features."
   ]
  },
  {
   "cell_type": "code",
   "execution_count": 64,
   "metadata": {},
   "outputs": [
    {
     "name": "stderr",
     "output_type": "stream",
     "text": [
      "/anaconda3/lib/python3.7/site-packages/IPython/core/interactiveshell.py:3020: DtypeWarning: Columns (10) have mixed types. Specify dtype option on import or set low_memory=False.\n",
      "  interactivity=interactivity, compiler=compiler, result=result)\n"
     ]
    },
    {
     "data": {
      "text/html": [
       "<div>\n",
       "<style scoped>\n",
       "    .dataframe tbody tr th:only-of-type {\n",
       "        vertical-align: middle;\n",
       "    }\n",
       "\n",
       "    .dataframe tbody tr th {\n",
       "        vertical-align: top;\n",
       "    }\n",
       "\n",
       "    .dataframe thead th {\n",
       "        text-align: right;\n",
       "    }\n",
       "</style>\n",
       "<table border=\"1\" class=\"dataframe\">\n",
       "  <thead>\n",
       "    <tr style=\"text-align: right;\">\n",
       "      <th></th>\n",
       "      <th>id_num</th>\n",
       "      <th>player_id</th>\n",
       "      <th>house</th>\n",
       "      <th>gender</th>\n",
       "      <th>age</th>\n",
       "      <th>weight</th>\n",
       "      <th>foul_type_id</th>\n",
       "      <th>game_move_id</th>\n",
       "      <th>penalty_id</th>\n",
       "      <th>game_duration</th>\n",
       "      <th>player_code</th>\n",
       "      <th>move_specialty</th>\n",
       "      <th>num_game_moves</th>\n",
       "      <th>num_game_losses</th>\n",
       "      <th>num_practice_sessions</th>\n",
       "      <th>num_games_satout</th>\n",
       "      <th>num_games_injured</th>\n",
       "      <th>num_games_notpartof</th>\n",
       "      <th>player_type</th>\n",
       "      <th>num_games_won</th>\n",
       "      <th>snitchnip</th>\n",
       "      <th>stooging</th>\n",
       "      <th>body_blow</th>\n",
       "      <th>checking</th>\n",
       "      <th>dopplebeater_defence</th>\n",
       "      <th>hawkshead_attacking_formation</th>\n",
       "      <th>no_hands_tackle</th>\n",
       "      <th>power_play</th>\n",
       "      <th>sloth_grip_roll</th>\n",
       "      <th>spiral_dive</th>\n",
       "      <th>starfish_and_stick</th>\n",
       "      <th>twirl</th>\n",
       "      <th>wronski_feint</th>\n",
       "      <th>zig-zag</th>\n",
       "      <th>bludger_backbeat</th>\n",
       "      <th>chelmondiston_charge</th>\n",
       "      <th>dionysus_dive</th>\n",
       "      <th>double_eight_loop</th>\n",
       "      <th>finbourgh_flick</th>\n",
       "      <th>reverse_pass</th>\n",
       "      <th>parkins_pincer</th>\n",
       "      <th>plumpton_pass</th>\n",
       "      <th>porskoff_ploy</th>\n",
       "      <th>transylvanian_tackle</th>\n",
       "      <th>woollongong_shimmy</th>\n",
       "      <th>change</th>\n",
       "      <th>snitch_caught</th>\n",
       "      <th>quidditch_league_player</th>\n",
       "    </tr>\n",
       "  </thead>\n",
       "  <tbody>\n",
       "    <tr>\n",
       "      <th>0</th>\n",
       "      <td>1</td>\n",
       "      <td>8222157</td>\n",
       "      <td>Gryffindor</td>\n",
       "      <td>Female</td>\n",
       "      <td>11.0</td>\n",
       "      <td>NaN</td>\n",
       "      <td>6</td>\n",
       "      <td>25</td>\n",
       "      <td>1</td>\n",
       "      <td>1</td>\n",
       "      <td>NaN</td>\n",
       "      <td>specialty38</td>\n",
       "      <td>41</td>\n",
       "      <td>0</td>\n",
       "      <td>1</td>\n",
       "      <td>0</td>\n",
       "      <td>0</td>\n",
       "      <td>0</td>\n",
       "      <td>Beater1</td>\n",
       "      <td>1</td>\n",
       "      <td>None</td>\n",
       "      <td>None</td>\n",
       "      <td>No</td>\n",
       "      <td>No</td>\n",
       "      <td>No</td>\n",
       "      <td>No</td>\n",
       "      <td>No</td>\n",
       "      <td>No</td>\n",
       "      <td>No</td>\n",
       "      <td>No</td>\n",
       "      <td>No</td>\n",
       "      <td>No</td>\n",
       "      <td>No</td>\n",
       "      <td>No</td>\n",
       "      <td>No</td>\n",
       "      <td>No</td>\n",
       "      <td>No</td>\n",
       "      <td>No</td>\n",
       "      <td>No</td>\n",
       "      <td>No</td>\n",
       "      <td>No</td>\n",
       "      <td>No</td>\n",
       "      <td>No</td>\n",
       "      <td>No</td>\n",
       "      <td>No</td>\n",
       "      <td>No</td>\n",
       "      <td>No</td>\n",
       "      <td>NO</td>\n",
       "    </tr>\n",
       "    <tr>\n",
       "      <th>1</th>\n",
       "      <td>2</td>\n",
       "      <td>55629189</td>\n",
       "      <td>Gryffindor</td>\n",
       "      <td>Female</td>\n",
       "      <td>12.0</td>\n",
       "      <td>NaN</td>\n",
       "      <td>1</td>\n",
       "      <td>1</td>\n",
       "      <td>7</td>\n",
       "      <td>3</td>\n",
       "      <td>NaN</td>\n",
       "      <td>NaN</td>\n",
       "      <td>59</td>\n",
       "      <td>0</td>\n",
       "      <td>18</td>\n",
       "      <td>0</td>\n",
       "      <td>0</td>\n",
       "      <td>0</td>\n",
       "      <td>Multiple</td>\n",
       "      <td>9</td>\n",
       "      <td>None</td>\n",
       "      <td>None</td>\n",
       "      <td>No</td>\n",
       "      <td>No</td>\n",
       "      <td>No</td>\n",
       "      <td>No</td>\n",
       "      <td>No</td>\n",
       "      <td>No</td>\n",
       "      <td>No</td>\n",
       "      <td>No</td>\n",
       "      <td>No</td>\n",
       "      <td>No</td>\n",
       "      <td>No</td>\n",
       "      <td>No</td>\n",
       "      <td>No</td>\n",
       "      <td>No</td>\n",
       "      <td>No</td>\n",
       "      <td>No</td>\n",
       "      <td>No</td>\n",
       "      <td>Up</td>\n",
       "      <td>No</td>\n",
       "      <td>No</td>\n",
       "      <td>No</td>\n",
       "      <td>No</td>\n",
       "      <td>No</td>\n",
       "      <td>Ch</td>\n",
       "      <td>Yes</td>\n",
       "      <td>NO</td>\n",
       "    </tr>\n",
       "    <tr>\n",
       "      <th>2</th>\n",
       "      <td>3</td>\n",
       "      <td>86047875</td>\n",
       "      <td>Slytherin</td>\n",
       "      <td>Female</td>\n",
       "      <td>13.0</td>\n",
       "      <td>NaN</td>\n",
       "      <td>1</td>\n",
       "      <td>1</td>\n",
       "      <td>7</td>\n",
       "      <td>2</td>\n",
       "      <td>NaN</td>\n",
       "      <td>NaN</td>\n",
       "      <td>11</td>\n",
       "      <td>5</td>\n",
       "      <td>13</td>\n",
       "      <td>2</td>\n",
       "      <td>0</td>\n",
       "      <td>1</td>\n",
       "      <td>Multiple</td>\n",
       "      <td>6</td>\n",
       "      <td>None</td>\n",
       "      <td>None</td>\n",
       "      <td>No</td>\n",
       "      <td>No</td>\n",
       "      <td>No</td>\n",
       "      <td>No</td>\n",
       "      <td>No</td>\n",
       "      <td>No</td>\n",
       "      <td>Steady</td>\n",
       "      <td>No</td>\n",
       "      <td>No</td>\n",
       "      <td>No</td>\n",
       "      <td>No</td>\n",
       "      <td>No</td>\n",
       "      <td>No</td>\n",
       "      <td>No</td>\n",
       "      <td>No</td>\n",
       "      <td>No</td>\n",
       "      <td>No</td>\n",
       "      <td>No</td>\n",
       "      <td>No</td>\n",
       "      <td>No</td>\n",
       "      <td>No</td>\n",
       "      <td>No</td>\n",
       "      <td>No</td>\n",
       "      <td>No</td>\n",
       "      <td>Yes</td>\n",
       "      <td>NO</td>\n",
       "    </tr>\n",
       "    <tr>\n",
       "      <th>3</th>\n",
       "      <td>4</td>\n",
       "      <td>82442376</td>\n",
       "      <td>Gryffindor</td>\n",
       "      <td>Male</td>\n",
       "      <td>14.0</td>\n",
       "      <td>NaN</td>\n",
       "      <td>1</td>\n",
       "      <td>1</td>\n",
       "      <td>7</td>\n",
       "      <td>2</td>\n",
       "      <td>NaN</td>\n",
       "      <td>NaN</td>\n",
       "      <td>44</td>\n",
       "      <td>1</td>\n",
       "      <td>16</td>\n",
       "      <td>0</td>\n",
       "      <td>0</td>\n",
       "      <td>0</td>\n",
       "      <td>Multiple</td>\n",
       "      <td>7</td>\n",
       "      <td>None</td>\n",
       "      <td>None</td>\n",
       "      <td>No</td>\n",
       "      <td>No</td>\n",
       "      <td>No</td>\n",
       "      <td>No</td>\n",
       "      <td>No</td>\n",
       "      <td>No</td>\n",
       "      <td>No</td>\n",
       "      <td>No</td>\n",
       "      <td>No</td>\n",
       "      <td>No</td>\n",
       "      <td>No</td>\n",
       "      <td>No</td>\n",
       "      <td>No</td>\n",
       "      <td>No</td>\n",
       "      <td>No</td>\n",
       "      <td>No</td>\n",
       "      <td>No</td>\n",
       "      <td>Up</td>\n",
       "      <td>No</td>\n",
       "      <td>No</td>\n",
       "      <td>No</td>\n",
       "      <td>No</td>\n",
       "      <td>No</td>\n",
       "      <td>Ch</td>\n",
       "      <td>Yes</td>\n",
       "      <td>NO</td>\n",
       "    </tr>\n",
       "    <tr>\n",
       "      <th>4</th>\n",
       "      <td>5</td>\n",
       "      <td>42519267</td>\n",
       "      <td>Gryffindor</td>\n",
       "      <td>Male</td>\n",
       "      <td>14.5</td>\n",
       "      <td>NaN</td>\n",
       "      <td>1</td>\n",
       "      <td>1</td>\n",
       "      <td>7</td>\n",
       "      <td>1</td>\n",
       "      <td>NaN</td>\n",
       "      <td>NaN</td>\n",
       "      <td>51</td>\n",
       "      <td>0</td>\n",
       "      <td>8</td>\n",
       "      <td>0</td>\n",
       "      <td>0</td>\n",
       "      <td>0</td>\n",
       "      <td>Captain</td>\n",
       "      <td>5</td>\n",
       "      <td>None</td>\n",
       "      <td>None</td>\n",
       "      <td>No</td>\n",
       "      <td>No</td>\n",
       "      <td>No</td>\n",
       "      <td>No</td>\n",
       "      <td>No</td>\n",
       "      <td>No</td>\n",
       "      <td>Steady</td>\n",
       "      <td>No</td>\n",
       "      <td>No</td>\n",
       "      <td>No</td>\n",
       "      <td>No</td>\n",
       "      <td>No</td>\n",
       "      <td>No</td>\n",
       "      <td>No</td>\n",
       "      <td>No</td>\n",
       "      <td>No</td>\n",
       "      <td>No</td>\n",
       "      <td>Steady</td>\n",
       "      <td>No</td>\n",
       "      <td>No</td>\n",
       "      <td>No</td>\n",
       "      <td>No</td>\n",
       "      <td>No</td>\n",
       "      <td>Ch</td>\n",
       "      <td>Yes</td>\n",
       "      <td>NO</td>\n",
       "    </tr>\n",
       "  </tbody>\n",
       "</table>\n",
       "</div>"
      ],
      "text/plain": [
       "   id_num  player_id       house  gender   age weight  foul_type_id  \\\n",
       "0       1    8222157  Gryffindor  Female  11.0    NaN             6   \n",
       "1       2   55629189  Gryffindor  Female  12.0    NaN             1   \n",
       "2       3   86047875   Slytherin  Female  13.0    NaN             1   \n",
       "3       4   82442376  Gryffindor    Male  14.0    NaN             1   \n",
       "4       5   42519267  Gryffindor    Male  14.5    NaN             1   \n",
       "\n",
       "   game_move_id  penalty_id  game_duration player_code move_specialty  \\\n",
       "0            25           1              1         NaN    specialty38   \n",
       "1             1           7              3         NaN            NaN   \n",
       "2             1           7              2         NaN            NaN   \n",
       "3             1           7              2         NaN            NaN   \n",
       "4             1           7              1         NaN            NaN   \n",
       "\n",
       "   num_game_moves  num_game_losses  num_practice_sessions  num_games_satout  \\\n",
       "0              41                0                      1                 0   \n",
       "1              59                0                     18                 0   \n",
       "2              11                5                     13                 2   \n",
       "3              44                1                     16                 0   \n",
       "4              51                0                      8                 0   \n",
       "\n",
       "   num_games_injured  num_games_notpartof player_type  num_games_won  \\\n",
       "0                  0                    0     Beater1              1   \n",
       "1                  0                    0    Multiple              9   \n",
       "2                  0                    1    Multiple              6   \n",
       "3                  0                    0    Multiple              7   \n",
       "4                  0                    0     Captain              5   \n",
       "\n",
       "  snitchnip stooging body_blow checking dopplebeater_defence  \\\n",
       "0      None     None        No       No                   No   \n",
       "1      None     None        No       No                   No   \n",
       "2      None     None        No       No                   No   \n",
       "3      None     None        No       No                   No   \n",
       "4      None     None        No       No                   No   \n",
       "\n",
       "  hawkshead_attacking_formation no_hands_tackle power_play sloth_grip_roll  \\\n",
       "0                            No              No         No              No   \n",
       "1                            No              No         No              No   \n",
       "2                            No              No         No          Steady   \n",
       "3                            No              No         No              No   \n",
       "4                            No              No         No          Steady   \n",
       "\n",
       "  spiral_dive starfish_and_stick twirl wronski_feint zig-zag bludger_backbeat  \\\n",
       "0          No                 No    No            No      No               No   \n",
       "1          No                 No    No            No      No               No   \n",
       "2          No                 No    No            No      No               No   \n",
       "3          No                 No    No            No      No               No   \n",
       "4          No                 No    No            No      No               No   \n",
       "\n",
       "  chelmondiston_charge dionysus_dive double_eight_loop finbourgh_flick  \\\n",
       "0                   No            No                No              No   \n",
       "1                   No            No                No              No   \n",
       "2                   No            No                No              No   \n",
       "3                   No            No                No              No   \n",
       "4                   No            No                No              No   \n",
       "\n",
       "  reverse_pass parkins_pincer plumpton_pass porskoff_ploy  \\\n",
       "0           No             No            No            No   \n",
       "1           Up             No            No            No   \n",
       "2           No             No            No            No   \n",
       "3           Up             No            No            No   \n",
       "4       Steady             No            No            No   \n",
       "\n",
       "  transylvanian_tackle woollongong_shimmy change snitch_caught  \\\n",
       "0                   No                 No     No            No   \n",
       "1                   No                 No     Ch           Yes   \n",
       "2                   No                 No     No           Yes   \n",
       "3                   No                 No     Ch           Yes   \n",
       "4                   No                 No     Ch           Yes   \n",
       "\n",
       "  quidditch_league_player  \n",
       "0                      NO  \n",
       "1                      NO  \n",
       "2                      NO  \n",
       "3                      NO  \n",
       "4                      NO  "
      ]
     },
     "execution_count": 64,
     "metadata": {},
     "output_type": "execute_result"
    }
   ],
   "source": [
    "# Reading the Training for Pre-Processing\n",
    "df_train = pd.read_csv('qudditch_training.csv', na_values='?')\n",
    "# Reading testing data\n",
    "df_test = pd.read_csv('qudditch_testing_without_target.csv', na_values='?')\n",
    "# df_train = df_train.drop(columns=['id_num.1'])\n",
    "df_train.head()"
   ]
  },
  {
   "cell_type": "code",
   "execution_count": 65,
   "metadata": {},
   "outputs": [
    {
     "data": {
      "text/plain": [
       "<matplotlib.axes._subplots.AxesSubplot at 0x1a20567828>"
      ]
     },
     "execution_count": 65,
     "metadata": {},
     "output_type": "execute_result"
    },
    {
     "data": {
      "image/png": "[encoded data removed]",
      "text/plain": [
       "<Figure size 432x288 with 2 Axes>"
      ]
     },
     "metadata": {
      "needs_background": "light"
     },
     "output_type": "display_data"
    }
   ],
   "source": [
    "corrMap = df_train.corr()\n",
    "sns.heatmap(corrMap, cmap='BuGn',\n",
    "            xticklabels=corrMap.columns.values,\n",
    "            yticklabels=corrMap.columns.values)"
   ]
  },
  {
   "cell_type": "code",
   "execution_count": 66,
   "metadata": {},
   "outputs": [],
   "source": [
    "# Calculate total training data length to separate train and test file\n",
    "trainData = len(df_train)\n",
    "df = pd.concat(objs=[df_train, df_test], sort=True).reset_index(drop=True)\n",
    "df_org = copy.deepcopy(df)"
   ]
  },
  {
   "cell_type": "code",
   "execution_count": 67,
   "metadata": {},
   "outputs": [],
   "source": [
    "# NAN values anf the label columns\n",
    "dropping_nan_columns = ['house', 'weight', 'player_code', 'move_specialty', 'quidditch_league_player']\n",
    "\n",
    "# Dropping columns names\n",
    "dropping_columns = ['id_num', 'finbourgh_flick', 'double_eight_loop']\n",
    "\n",
    "\n",
    "# Creating Categorization\n",
    "category_reduce_columns = ['stooging', 'snitchnip']\n",
    "\n",
    "# Normalizing data columns names\n",
    "normalizing_columns = ['age', 'game_duration', 'num_game_moves', 'num_game_losses', 'num_practice_sessions',\n",
    "                       'num_games_won','foul_type_id', 'player_id', 'tactics_total', 'tactics_change', \n",
    "                       'num_games_notPlayed', 'stooging', 'snitchnip', 'game_move_id']\n",
    "\n",
    "# categorical or nominal data\n",
    "oneHotEncoding_columns = ['gender','player_type','snitchnip','stooging','body_blow','checking',\n",
    "                          'dopplebeater_defence','no_hands_tackle',\n",
    "                          'sloth_grip_roll','spiral_dive','twirl','wronski_feint','reverse_pass',\n",
    "                          'parkins_pincer','change','snitch_caught', 'power_play', \n",
    "                        'transylvanian_tackle', 'woollongong_shimmy', 'porskoff_ploy', 'plumpton_pass', 'dionysus_dive',\n",
    "                        'chelmondiston_charge', 'bludger_backbeat', 'zig-zag', 'starfish_and_stick', \n",
    "                        'hawkshead_attacking_formation']\n",
    "# Tactics columns which will be combined\n",
    "tactics_columns = ['body_blow', 'checking', 'dopplebeater_defence', 'hawkshead_attacking_formation', 'no_hands_tackle', \n",
    "                   'power_play', 'sloth_grip_roll', 'spiral_dive', 'starfish_and_stick', 'twirl', 'wronski_feint',\n",
    "                   'zig-zag', 'bludger_backbeat', 'chelmondiston_charge', 'dionysus_dive', 'double_eight_loop', \n",
    "                   'finbourgh_flick', 'reverse_pass', 'parkins_pincer', 'plumpton_pass','porskoff_ploy', \n",
    "                   'transylvanian_tackle','woollongong_shimmy']"
   ]
  },
  {
   "cell_type": "markdown",
   "metadata": {},
   "source": [
    "#### Handling missing values. (If ANY)"
   ]
  },
  {
   "cell_type": "code",
   "execution_count": 68,
   "metadata": {},
   "outputs": [],
   "source": [
    "# drop label and missing values first and recalculate missing values with different tachnique.\n",
    "df_org = df_org.drop(columns=dropping_nan_columns)"
   ]
  },
  {
   "cell_type": "code",
   "execution_count": 70,
   "metadata": {},
   "outputs": [],
   "source": [
    "# create new 'specialtyNospecialty' value to replace NAN values in the 'move_specialty' feature.\n",
    "missing_values_column = 'move_specialty'\n",
    "move_specialty_pred = df['move_specialty'].replace(np.nan,'specialtyNospecialty')\n",
    "move_specialty_pred = pd.get_dummies(move_specialty_pred, columns = missing_values_column, dtype=float, drop_first = True)\n",
    "df_org = pd.concat([df_org, move_specialty_pred], axis=1)"
   ]
  },
  {
   "cell_type": "code",
   "execution_count": null,
   "metadata": {},
   "outputs": [],
   "source": []
  },
  {
   "cell_type": "markdown",
   "metadata": {},
   "source": [
    "#### Feature Datatype Conversion From Numeric to categoric and Vice-versa. (If ANY)"
   ]
  },
  {
   "cell_type": "code",
   "execution_count": 72,
   "metadata": {},
   "outputs": [],
   "source": [
    "def oneHotEncoding(df, oneHotEncoding_columns):\n",
    "    df_transform_new = pd.get_dummies(df, columns = oneHotEncoding_columns, dtype=float, drop_first = True)\n",
    "    \n",
    "    for column in list(df_transform_new):\n",
    "        df[column] = df_transform_new[column]\n",
    "    \n",
    "    return df"
   ]
  },
  {
   "cell_type": "code",
   "execution_count": 73,
   "metadata": {},
   "outputs": [],
   "source": [
    "def labelEncoding(df, labelEncoding_columns):\n",
    "    le = preprocessing.LabelEncoder()\n",
    "    df_new = df[labelEncoding_columns]\n",
    "    df_transform_new = df_new.apply(le.fit_transform)\n",
    "    \n",
    "    for column in list(df_transform_new):\n",
    "        df[column] = df_transform_new[column]\n",
    "    \n",
    "    return df"
   ]
  },
  {
   "cell_type": "markdown",
   "metadata": {},
   "source": [
    "#### Feature Reduction or extraction. (If ANY)"
   ]
  },
  {
   "cell_type": "code",
   "execution_count": 74,
   "metadata": {},
   "outputs": [],
   "source": [
    "def combineColumns(df, new_column):\n",
    "    df[new_column] = df['num_games_satout'] + df['num_games_injured'] + df['num_games_notpartof']\n",
    "    df = df.drop(columns=['num_games_satout', 'num_games_injured', 'num_games_notpartof'])\n",
    "    return df"
   ]
  },
  {
   "cell_type": "code",
   "execution_count": 75,
   "metadata": {},
   "outputs": [],
   "source": [
    "def updateReducingColumns(df, columns):\n",
    "    mapping = {'None': 0, 'Norm': 1, 'High': 2}\n",
    "    \n",
    "    for column in columns:\n",
    "        df = df.replace({column: mapping})\n",
    "\n",
    "    return df"
   ]
  },
  {
   "cell_type": "code",
   "execution_count": 76,
   "metadata": {},
   "outputs": [],
   "source": [
    "def updateTacticChanges(df, columns):\n",
    "    mapping = {'No': 0, 'Down': 1, 'Steady': 2, 'Up': 3}\n",
    "    \n",
    "    for column in columns:\n",
    "        df = df.replace({column: mapping})\n",
    "\n",
    "    return df"
   ]
  },
  {
   "cell_type": "code",
   "execution_count": 77,
   "metadata": {},
   "outputs": [],
   "source": [
    "def changeTacticChanges(df, columns):\n",
    "    changes = {'Down': 1, 'Up': 1, 'No': 0, 'Steady': 0}\n",
    "      \n",
    "    for column in columns:\n",
    "        df = df.replace({column: changes})\n",
    "    \n",
    "    return df"
   ]
  },
  {
   "cell_type": "code",
   "execution_count": 78,
   "metadata": {},
   "outputs": [],
   "source": [
    "def reducingCategories(df, columns):\n",
    "    for column in columns:\n",
    "        df[column] = df[column].apply(lambda x: 'High' if (x not in ['None', 'Norm']) else x)\n",
    "    \n",
    "    return df"
   ]
  },
  {
   "cell_type": "markdown",
   "metadata": {},
   "source": [
    "#### Any other Pre-processing Used. (Give the name along with the code.)"
   ]
  },
  {
   "cell_type": "code",
   "execution_count": 79,
   "metadata": {},
   "outputs": [],
   "source": [
    "# Min-Max Scalar is used in this Method\n",
    "def preprocess(df, normalizing_columns): \n",
    "    for col in normalizing_columns:\n",
    "        min_ = df[col].min()\n",
    "        max_ = df[col].max()\n",
    "        exp = lambda df : (df-min_)/(max_-min_)\n",
    "        df[col] = df[col].apply(exp)\n",
    "    \n",
    "    return df"
   ]
  },
  {
   "cell_type": "code",
   "execution_count": 80,
   "metadata": {},
   "outputs": [],
   "source": [
    "def getRandomForestModel(X_train,y_train):\n",
    "    rf = RandomForestClassifier(n_estimators=300, criterion='gini')\n",
    "    rf = rf.fit(X_train,y_train)\n",
    "#     rf_score = rf.score(X_test,y_test)\n",
    "    return rf"
   ]
  },
  {
   "cell_type": "code",
   "execution_count": 81,
   "metadata": {},
   "outputs": [],
   "source": [
    "def getTrainingAndTestingData(df_org, column):\n",
    "\n",
    "    df_preprocessed_data = copy.deepcopy(df_org)\n",
    "    df_preprocessed_data[column] = df[column]\n",
    "\n",
    "    # Get null and not null data of column and \n",
    "    df_temp_train = df_preprocessed_data[df_preprocessed_data[column].notnull()]\n",
    "    df_temp_null = df_preprocessed_data[df_preprocessed_data[column].isnull()]\n",
    "\n",
    "    # Create test and train data\n",
    "    df_temp_test_pred = df_temp_null.drop(columns=[column])\n",
    "    new_df_temp_train = df_temp_train\n",
    "    df_temp_labels = new_df_temp_train[column]\n",
    "    df_temp_features = new_df_temp_train.drop(columns=[column])\n",
    "    \n",
    "    X_train, X_test, y_train, y_test = train_test_split(df_temp_features, df_temp_labels, test_size=0.25, random_state=45)\n",
    "    \n",
    "    \n",
    "    return X_train, X_test, y_train, y_test, df_temp_test_pred\n",
    "    "
   ]
  },
  {
   "cell_type": "code",
   "execution_count": 82,
   "metadata": {},
   "outputs": [],
   "source": [
    "# Combine columns\n",
    "df_org = combineColumns(df_org, 'num_games_notPlayed')\n",
    "\n",
    "# categorize columns\n",
    "df_org = reducingCategories(df_org, category_reduce_columns)\n",
    "df_org = updateReducingColumns(df_org, category_reduce_columns)\n",
    "\n",
    "# Add the tactics changes\n",
    "df_tactics_update = updateTacticChanges(df_org, tactics_columns)\n",
    "df_org['tactics_total'] = df_tactics_update[tactics_columns].sum(axis=1)\n",
    "\n",
    "# Keep the tactics changes\n",
    "df_tactics_update = changeTacticChanges(df_org, tactics_columns)\n",
    "df_org['tactics_change'] = df_tactics_update[tactics_columns].sum(axis=1)"
   ]
  },
  {
   "cell_type": "code",
   "execution_count": 84,
   "metadata": {},
   "outputs": [],
   "source": [
    "# Data preprocessing and perform oneHotEncoding\n",
    "df_org = preprocess(df_org, normalizing_columns)\n",
    "df_org = oneHotEncoding(df_org.drop(columns= dropping_columns), oneHotEncoding_columns)\n",
    "df_org = df_org.drop(columns= oneHotEncoding_columns)"
   ]
  },
  {
   "cell_type": "code",
   "execution_count": 85,
   "metadata": {},
   "outputs": [],
   "source": []
  },
  {
   "cell_type": "markdown",
   "metadata": {},
   "source": [
    "### Predicting values for the column 'HOUSE'"
   ]
  },
  {
   "cell_type": "code",
   "execution_count": 88,
   "metadata": {},
   "outputs": [],
   "source": [
    "column_pred = 'house';\n",
    "X_train, X_test, y_train, y_test, df_temp_test_pred = getTrainingAndTestingData(df_org, column_pred)\n",
    "rfm = getRandomForestModel(X_train,y_train)\n",
    "pred_houses = rfm.predict(df_temp_test_pred)\n",
    "df_temp_test_pred[column_pred] = pred_houses\n",
    "df_house_test_pred = df_temp_test_pred[column_pred]\n",
    "df_original_house_notNone = df[df[column_pred].notnull()][column_pred]\n",
    "house_pred = pd.concat([df_original_house_notNone, df_house_test_pred])\n",
    "house_pred.sort_index(inplace=True)\n",
    "house_pred = pd.get_dummies(house_pred, columns = column_pred, dtype=float, drop_first = True)\n",
    "\n",
    "df_org = pd.concat([df_org, house_pred], axis=1)"
   ]
  },
  {
   "cell_type": "code",
   "execution_count": 89,
   "metadata": {},
   "outputs": [
    {
     "data": {
      "text/plain": [
       "(101766, 153)"
      ]
     },
     "execution_count": 89,
     "metadata": {},
     "output_type": "execute_result"
    }
   ],
   "source": [
    "df_org.shape"
   ]
  },
  {
   "cell_type": "markdown",
   "metadata": {},
   "source": [
    "## Predicting value for the column 'Player_code'"
   ]
  },
  {
   "cell_type": "code",
   "execution_count": 90,
   "metadata": {},
   "outputs": [],
   "source": [
    "column_pred = 'player_code';\n",
    "X_train, X_test, y_train, y_test, df_temp_test_pred = getTrainingAndTestingData(df_org, column_pred)\n",
    "rfm = getRandomForestModel(X_train,y_train)\n",
    "pred_player_code = rfm.predict(df_temp_test_pred)\n",
    "df_temp_test_pred[column_pred] = pred_player_code\n",
    "df_player_code_test_pred = df_temp_test_pred[column_pred]\n",
    "df_original_player_code_notNone = df[df[column_pred].notnull()][column_pred]\n",
    "player_code_pred = pd.concat([df_original_player_code_notNone, df_player_code_test_pred])\n",
    "player_code_pred.sort_index(inplace=True)\n",
    "player_code_pred = pd.get_dummies(player_code_pred, columns = column_pred, dtype=float, drop_first = True)\n",
    "df_org = pd.concat([df_org, player_code_pred], axis=1)"
   ]
  },
  {
   "cell_type": "code",
   "execution_count": 91,
   "metadata": {},
   "outputs": [
    {
     "data": {
      "text/plain": [
       "(101766, 169)"
      ]
     },
     "execution_count": 91,
     "metadata": {},
     "output_type": "execute_result"
    }
   ],
   "source": [
    "df_org.shape"
   ]
  },
  {
   "cell_type": "markdown",
   "metadata": {},
   "source": [
    "# PART II: Classification"
   ]
  },
  {
   "cell_type": "code",
   "execution_count": 135,
   "metadata": {},
   "outputs": [],
   "source": [
    "from sklearn.decomposition import PCA\n",
    "# Make an instance of the Model\n",
    "pca = PCA()\n",
    "pca.fit(df_org)\n",
    "df_org_pca = pca.fit_transform(df_org)"
   ]
  },
  {
   "cell_type": "code",
   "execution_count": 136,
   "metadata": {},
   "outputs": [],
   "source": [
    "df_org_pca = pd.DataFrame(df_org_pca)"
   ]
  },
  {
   "cell_type": "code",
   "execution_count": 137,
   "metadata": {},
   "outputs": [],
   "source": [
    "# Separate the training and testing file before the model training.\n",
    "\n",
    "df_org_pca['quidditch_league_player'] = df.quidditch_league_player\n",
    "df_train_final = df_org_pca[:trainData]\n",
    "df_test_final = df_org_pca[trainData:]\n",
    "df_test_final.reset_index(drop=True)\n",
    "df_test_final = df_test_final.drop(columns=['quidditch_league_player'])\n",
    "df_train_final_without_label = df_train_final.drop(columns=['quidditch_league_player'])"
   ]
  },
  {
   "cell_type": "code",
   "execution_count": null,
   "metadata": {},
   "outputs": [],
   "source": []
  },
  {
   "cell_type": "code",
   "execution_count": 93,
   "metadata": {},
   "outputs": [],
   "source": [
    "def getTrainingAndTestingData(df_org, column):\n",
    "\n",
    "    df_preprocessed_data = copy.deepcopy(df_org)\n",
    "    df_preprocessed_data[column] = df[column]\n",
    "\n",
    "    # Get null and not null data of column and \n",
    "    df_temp_train = df_preprocessed_data[df_preprocessed_data[column].notnull()]\n",
    "    df_temp_null = df_preprocessed_data[df_preprocessed_data[column].isnull()]\n",
    "\n",
    "    # Create test and train data\n",
    "    df_temp_test_pred = df_temp_null.drop(columns=[column])\n",
    "    new_df_temp_train = df_temp_train\n",
    "    df_temp_labels = new_df_temp_train[column]\n",
    "    df_temp_features = new_df_temp_train.drop(columns=[column])\n",
    "    \n",
    "    X_train, X_test, y_train, y_test = train_test_split(df_temp_features, df_temp_labels, test_size=0.25, random_state=45)\n",
    "    \n",
    "    \n",
    "    return X_train, X_test, y_train, y_test, df_temp_test_pred"
   ]
  },
  {
   "cell_type": "markdown",
   "metadata": {},
   "source": [
    "### Model 1:\n",
    "Model Name: Neural Networks<br>\n",
    "Evaluation method and metric used Name:F1 score and Confusion Matrix<br>\n",
    "Name of the Hyperparameter used: alpha, activation function, hidden layers in neural networks<br>\n"
   ]
  },
  {
   "cell_type": "code",
   "execution_count": 94,
   "metadata": {},
   "outputs": [],
   "source": [
    "def getMLPModel(X_train,y_train):\n",
    "    mlp =  MLPClassifier(alpha=0.01, activation='logistic', hidden_layer_sizes =(100,50,) )\n",
    "    mlp = mlp.fit(X_train, y_train)\n",
    "    mlp_score = mlp.score(X_test,y_test)\n",
    "    print ('nueral net score: ', mlp_score)\n",
    "    return mlp"
   ]
  },
  {
   "cell_type": "code",
   "execution_count": 149,
   "metadata": {},
   "outputs": [],
   "source": [
    "column_pred = 'quidditch_league_player'\n",
    "X_train, X_test, y_train, y_test = train_test_split(df_train_final_without_label, df_train_final[column_pred], test_size=0.3, random_state=45)\n",
    "\n",
    "# Upscaling the data\n",
    "sm = SMOTE(random_state=45, ratio = 1.0)\n",
    "X_train_sm_nn, y_train_sm_nn = sm.fit_sample(X_train, y_train)\n",
    "\n",
    "x1_nn = pd.DataFrame(X_train_sm_nn)\n",
    "y1_nn = pd.DataFrame(y_train_sm_nn)\n"
   ]
  },
  {
   "cell_type": "code",
   "execution_count": 150,
   "metadata": {},
   "outputs": [
    {
     "name": "stderr",
     "output_type": "stream",
     "text": [
      "/anaconda3/lib/python3.7/site-packages/sklearn/neural_network/multilayer_perceptron.py:916: DataConversionWarning: A column-vector y was passed when a 1d array was expected. Please change the shape of y to (n_samples, ), for example using ravel().\n",
      "  y = column_or_1d(y, warn=True)\n",
      "/anaconda3/lib/python3.7/site-packages/sklearn/neural_network/multilayer_perceptron.py:562: ConvergenceWarning: Stochastic Optimizer: Maximum iterations (200) reached and the optimization hasn't converged yet.\n",
      "  % self.max_iter, ConvergenceWarning)\n"
     ]
    },
    {
     "name": "stdout",
     "output_type": "stream",
     "text": [
      "nueral net score:  0.7749506254114549\n"
     ]
    }
   ],
   "source": [
    "pred_model_NN = getMLPModel(x1_nn,y1_nn)\n",
    "y_predicted_NN = pred_model_NN.predict(X_test)"
   ]
  },
  {
   "cell_type": "code",
   "execution_count": null,
   "metadata": {},
   "outputs": [],
   "source": []
  },
  {
   "cell_type": "code",
   "execution_count": 151,
   "metadata": {
    "scrolled": true
   },
   "outputs": [
    {
     "name": "stdout",
     "output_type": "stream",
     "text": [
      "=== F1 Score ===\n",
      "0.7749506254114548\n",
      "\n",
      "\n",
      "=== Confusion Matrix ===\n",
      "[[22644  4361]\n",
      " [ 2476   899]]\n",
      "\n",
      "\n"
     ]
    }
   ],
   "source": [
    "print(\"=== F1 Score ===\")\n",
    "print(f1_score(y_test, y_predicted_NN,average='micro'))\n",
    "print('\\n')\n",
    "\n",
    "print(\"=== Confusion Matrix ===\")\n",
    "print(confusion_matrix(y_test, y_predicted_NN))\n",
    "print('\\n')"
   ]
  },
  {
   "cell_type": "code",
   "execution_count": 152,
   "metadata": {},
   "outputs": [
    {
     "data": {
      "text/plain": [
       "(array(['NO', 'YES'], dtype='<U3'), array([408,  92]))"
      ]
     },
     "execution_count": 152,
     "metadata": {},
     "output_type": "execute_result"
    }
   ],
   "source": [
    "y_predicted_NN_test = pred_model_NN.predict(df_test_final)\n",
    "np.unique(y_predicted_NN_test, return_counts=True)"
   ]
  },
  {
   "cell_type": "code",
   "execution_count": null,
   "metadata": {},
   "outputs": [],
   "source": []
  },
  {
   "cell_type": "markdown",
   "metadata": {},
   "source": [
    "### Model 2:\n",
    "Model Name:AdaBoost<br>\n",
    "Evaluation method and metric used Name:F1 score and Confusion Matrix<br>\n",
    "Name of the Hyperparameter used: n_estimators<br>\n"
   ]
  },
  {
   "cell_type": "code",
   "execution_count": 155,
   "metadata": {},
   "outputs": [],
   "source": [
    "def adaBoostModel(X_train,y_train):\n",
    "    rf = AdaBoostClassifier(n_estimators=100)\n",
    "    rf = rf.fit(X_train,y_train)\n",
    "    rf_score = rf.score(X_test,y_test)\n",
    "    print ('AdaBosst score: ', rf_score)\n",
    "    return rf"
   ]
  },
  {
   "cell_type": "code",
   "execution_count": 153,
   "metadata": {},
   "outputs": [],
   "source": [
    "column_pred = 'quidditch_league_player'\n",
    "X_train, X_test, y_train, y_test = train_test_split(df_train_final_without_label, df_train_final[column_pred], test_size=0.3, random_state=45)\n",
    "\n",
    "# Upscaling the data\n",
    "sm = SMOTE(random_state=45, ratio = 1.0)\n",
    "X_train_sm_ab, y_train_sm_ab = sm.fit_sample(X_train, y_train)\n",
    "\n",
    "x1_ab = pd.DataFrame(X_train_sm_ab)\n",
    "y1_ab = pd.DataFrame(y_train_sm_ab)\n"
   ]
  },
  {
   "cell_type": "code",
   "execution_count": 156,
   "metadata": {},
   "outputs": [
    {
     "name": "stderr",
     "output_type": "stream",
     "text": [
      "/anaconda3/lib/python3.7/site-packages/sklearn/utils/validation.py:761: DataConversionWarning: A column-vector y was passed when a 1d array was expected. Please change the shape of y to (n_samples, ), for example using ravel().\n",
      "  y = column_or_1d(y, warn=True)\n"
     ]
    },
    {
     "name": "stdout",
     "output_type": "stream",
     "text": [
      "AdaBosst score:  0.6531599736668862\n"
     ]
    }
   ],
   "source": [
    "pred_model_AB = adaBoostModel(x1_ab,y1_ab)\n",
    "y_predicted_AB = pred_model_AB.predict(X_test)"
   ]
  },
  {
   "cell_type": "code",
   "execution_count": 157,
   "metadata": {},
   "outputs": [
    {
     "name": "stdout",
     "output_type": "stream",
     "text": [
      "=== F1 Score ===\n",
      "0.6531599736668862\n",
      "\n",
      "\n",
      "=== Confusion Matrix ===\n",
      "[[18377  8628]\n",
      " [ 1909  1466]]\n",
      "\n",
      "\n"
     ]
    }
   ],
   "source": [
    "print(\"=== F1 Score ===\")\n",
    "print(f1_score(y_test, y_predicted_AB,average='micro'))\n",
    "print('\\n')\n",
    "\n",
    "print(\"=== Confusion Matrix ===\")\n",
    "print(confusion_matrix(y_test, y_predicted_AB))\n",
    "print('\\n')"
   ]
  },
  {
   "cell_type": "code",
   "execution_count": 158,
   "metadata": {},
   "outputs": [
    {
     "data": {
      "text/plain": [
       "(array(['NO', 'YES'], dtype=object), array([327, 173]))"
      ]
     },
     "execution_count": 158,
     "metadata": {},
     "output_type": "execute_result"
    }
   ],
   "source": [
    "y_predicted_AB_test = pred_model_AB.predict(df_test_final)\n",
    "np.unique(y_predicted_AB_test, return_counts=True)"
   ]
  },
  {
   "cell_type": "markdown",
   "metadata": {},
   "source": [
    "### Model 3:\n",
    "Model Name: Random Forest<br>\n",
    "Evaluation method and metric used Name: F1 score and Confusion Matrix<br>\n",
    "Name of the Hyperparameter used: n_estimators and criterion <br>\n"
   ]
  },
  {
   "cell_type": "code",
   "execution_count": 138,
   "metadata": {},
   "outputs": [],
   "source": [
    "def getRandomForestModel(X_train,y_train):\n",
    "    rf = RandomForestClassifier(n_estimators=100, criterion='gini')\n",
    "    rf = rf.fit(X_train,y_train)\n",
    "    rf_score = rf.score(X_test,y_test)\n",
    "    print ('Random Forest score: ', rf_score)\n",
    "    return rf"
   ]
  },
  {
   "cell_type": "code",
   "execution_count": 140,
   "metadata": {},
   "outputs": [],
   "source": [
    "column_pred = 'quidditch_league_player'\n",
    "X_train, X_test, y_train, y_test = train_test_split(df_train_final_without_label, df_train_final[column_pred], test_size=0.3, random_state=45)\n",
    "\n",
    "# Upscaling the data\n",
    "sm = SMOTE(random_state=45, ratio = 1.0)\n",
    "X_train_sm, y_train_sm = sm.fit_sample(X_train, y_train)\n"
   ]
  },
  {
   "cell_type": "code",
   "execution_count": 141,
   "metadata": {},
   "outputs": [],
   "source": [
    "x1 = pd.DataFrame(X_train_sm)\n",
    "y1 = pd.DataFrame(y_train_sm)"
   ]
  },
  {
   "cell_type": "code",
   "execution_count": 142,
   "metadata": {},
   "outputs": [
    {
     "name": "stderr",
     "output_type": "stream",
     "text": [
      "/anaconda3/lib/python3.7/site-packages/ipykernel_launcher.py:3: DataConversionWarning: A column-vector y was passed when a 1d array was expected. Please change the shape of y to (n_samples,), for example using ravel().\n",
      "  This is separate from the ipykernel package so we can avoid doing imports until\n"
     ]
    },
    {
     "name": "stdout",
     "output_type": "stream",
     "text": [
      "Random Forest score:  0.8374588545095457\n"
     ]
    }
   ],
   "source": [
    "pred_model_RF = getRandomForestModel(x1,y1)\n",
    "y_predicted_RF = pred_model_RF.predict(X_test)"
   ]
  },
  {
   "cell_type": "code",
   "execution_count": 143,
   "metadata": {
    "scrolled": false
   },
   "outputs": [
    {
     "name": "stdout",
     "output_type": "stream",
     "text": [
      "=== F1 Score ===\n",
      "0.8374588545095457\n",
      "\n",
      "\n",
      "=== Confusion Matrix ===\n",
      "[[24951  2054]\n",
      " [ 2884   491]]\n",
      "\n",
      "\n"
     ]
    }
   ],
   "source": [
    "print(\"=== F1 Score ===\")\n",
    "print(f1_score(y_test, y_predicted_RF,average='micro'))\n",
    "print('\\n')\n",
    "\n",
    "print(\"=== Confusion Matrix ===\")\n",
    "print(confusion_matrix(y_test, y_predicted_RF))\n",
    "print('\\n')"
   ]
  },
  {
   "cell_type": "markdown",
   "metadata": {},
   "source": [
    "# PART III: Best Hypothesis:\n",
    "Model Name: Random Forest<br>\n",
    "Reason: Better F1 score and Better Confusion matrix result<br>\n",
    "Hyper-parameter Value:n_estimators=1500, criterion='gini'<br>"
   ]
  },
  {
   "cell_type": "code",
   "execution_count": 144,
   "metadata": {
    "scrolled": true
   },
   "outputs": [
    {
     "data": {
      "text/plain": [
       "(array(['NO', 'YES'], dtype=object), array([458,  42]))"
      ]
     },
     "execution_count": 144,
     "metadata": {},
     "output_type": "execute_result"
    }
   ],
   "source": [
    "y_predicted_RF_test = pred_model_RF.predict(df_test_final)\n",
    "np.unique(y_predicted_RF_test, return_counts=True)"
   ]
  },
  {
   "cell_type": "code",
   "execution_count": null,
   "metadata": {},
   "outputs": [],
   "source": []
  },
  {
   "cell_type": "code",
   "execution_count": 108,
   "metadata": {},
   "outputs": [],
   "source": [
    "# Cross validate on the x_train and y_train file\n",
    "rf_score = cross_val_score(pred_model_RF, X_train, y_train, cv=5)"
   ]
  },
  {
   "cell_type": "code",
   "execution_count": 109,
   "metadata": {},
   "outputs": [
    {
     "data": {
      "text/plain": [
       "array([0.88827761, 0.88813655, 0.88848134, 0.88848134, 0.88847348])"
      ]
     },
     "execution_count": 109,
     "metadata": {},
     "output_type": "execute_result"
    }
   ],
   "source": [
    "rf_score"
   ]
  },
  {
   "cell_type": "code",
   "execution_count": 148,
   "metadata": {},
   "outputs": [],
   "source": [
    "# Download the predicted test data in the csv file\n",
    "\n",
    "df_res = pd.DataFrame(y_predicted_RF_test, columns=['quidditch_league_player'])\n",
    "df_res['id_num'] = df_res.index\n",
    "df_res.id_num += 1\n",
    "df_res = df_res.set_index('id_num')\n",
    "df_res.to_csv('test_outputs.csv')"
   ]
  },
  {
   "cell_type": "code",
   "execution_count": null,
   "metadata": {},
   "outputs": [],
   "source": []
  }
 ],
 "metadata": {
  "kernelspec": {
   "display_name": "Python 3",
   "language": "python",
   "name": "python3"
  },
  "language_info": {
   "codemirror_mode": {
    "name": "ipython",
    "version": 3
   },
   "file_extension": ".py",
   "mimetype": "text/x-python",
   "name": "python",
   "nbconvert_exporter": "python",
   "pygments_lexer": "ipython3",
   "version": "3.7.0"
  }
 },
 "nbformat": 4,
 "nbformat_minor": 2
}
